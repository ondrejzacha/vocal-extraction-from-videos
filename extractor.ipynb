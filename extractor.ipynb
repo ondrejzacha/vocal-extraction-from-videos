{
  "nbformat": 4,
  "nbformat_minor": 0,
  "metadata": {
    "colab": {
      "name": "extractor.ipynb",
      "provenance": [],
      "collapsed_sections": []
    },
    "kernelspec": {
      "name": "python3",
      "display_name": "Python 3"
    }
  },
  "cells": [
    {
      "cell_type": "code",
      "metadata": {
        "id": "ILsPf6ITx1o3",
        "colab_type": "code",
        "colab": {}
      },
      "source": [
        "import extractor "
      ],
      "execution_count": 0,
      "outputs": []
    },
    {
      "cell_type": "code",
      "metadata": {
        "id": "l73S7VnjyHOh",
        "colab_type": "code",
        "colab": {}
      },
      "source": [
        "extractor.YoutubeVideo('insert YouTube link here')"
      ],
      "execution_count": 0,
      "outputs": []
    },
    {
      "cell_type": "code",
      "metadata": {
        "id": "TNQfdA_zyFMx",
        "colab_type": "code",
        "colab": {}
      },
      "source": [
        "extractor.Upload('filename')"
      ],
      "execution_count": 0,
      "outputs": []
    }
  ]
}